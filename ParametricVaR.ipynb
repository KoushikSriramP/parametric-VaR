{
 "cells": [
  {
   "cell_type": "markdown",
   "metadata": {},
   "source": [
    "# 1. Write a Function for calculating the Parametric VaR of DLF (40%), NTPC (20%) And HDFC Bank (40%). Take historical data for last 500 days before 1st Oct, 2019 and a 99% VaR confidence level. "
   ]
  },
  {
   "cell_type": "code",
   "execution_count": 1,
   "metadata": {},
   "outputs": [
    {
     "name": "stderr",
     "output_type": "stream",
     "text": [
      "C:\\Users\\koushik\\AppData\\Roaming\\Python\\Python311\\site-packages\\yfinance\\base.py:48: FutureWarning: The default dtype for empty Series will be 'object' instead of 'float64' in a future version. Specify a dtype explicitly to silence this warning.\n",
      "  _empty_series = pd.Series()\n"
     ]
    }
   ],
   "source": [
    "import yfinance as yf\n",
    "import pandas as pd\n",
    "import numpy as np\n",
    "import scipy.stats as stats\n",
    "import datetime as dt"
   ]
  },
  {
   "cell_type": "markdown",
   "metadata": {},
   "source": [
    "## Function to get stock data"
   ]
  },
  {
   "cell_type": "code",
   "execution_count": 2,
   "metadata": {},
   "outputs": [],
   "source": [
    "def get_stock_data(stockList, startDate, endDate):\n",
    "    stockData = yf.download(stockList, start=startDate, end=endDate)\n",
    "    stockData = stockData['Adj Close']\n",
    "    return stockData"
   ]
  },
  {
   "cell_type": "code",
   "execution_count": 3,
   "metadata": {},
   "outputs": [
    {
     "name": "stderr",
     "output_type": "stream",
     "text": [
      "[*********************100%%**********************]  3 of 3 completed\n"
     ]
    }
   ],
   "source": [
    "stock_list = ['DLF.NS', 'NTPC.NS', 'HDFCBANK.NS']\n",
    "wtgs = [0.4, 0.2, 0.4]\n",
    "df = get_stock_data(stockList=stock_list, startDate='2017-09-15', endDate='2019-10-1')\n",
    "data = df.copy(deep=True)"
   ]
  },
  {
   "cell_type": "markdown",
   "metadata": {},
   "source": [
    "## Function to get Log Returns, Mean and Standard Deviation of the data"
   ]
  },
  {
   "cell_type": "code",
   "execution_count": 4,
   "metadata": {},
   "outputs": [],
   "source": [
    "def portfMetrics(weights, data):\n",
    "    # Caculating the Log Returns of the Portfolio\n",
    "    returns = np.log(data).diff() \n",
    "    returns = returns[stock_list]\n",
    "    returns.dropna(inplace=True)\n",
    "    \n",
    "    portReturns = np.sum(weights * returns, axis=1)\n",
    "    # Calulating mean and standard deviation for returns\n",
    "    meanReturns = portReturns.mean()\n",
    "    wgts = np.array(weights).reshape(-1, 1)\n",
    "    cov_var = returns.cov()\n",
    "    stdDevReturns = np.sqrt(wgts.T.dot(cov_var).dot(wgts))    \n",
    "\n",
    "    return portReturns, meanReturns, stdDevReturns"
   ]
  },
  {
   "cell_type": "code",
   "execution_count": 5,
   "metadata": {},
   "outputs": [
    {
     "data": {
      "text/plain": [
       "5.989567248881189e-05"
      ]
     },
     "execution_count": 5,
     "metadata": {},
     "output_type": "execute_result"
    }
   ],
   "source": [
    "PortfolioReturns, Mean_Returns, StdDeviation_Returns = portfMetrics(wtgs, data)\n",
    "Mean_Returns\n"
   ]
  },
  {
   "cell_type": "markdown",
   "metadata": {},
   "source": [
    "## Function to calculate the Parametric VaR"
   ]
  },
  {
   "cell_type": "code",
   "execution_count": 6,
   "metadata": {},
   "outputs": [],
   "source": [
    "def parametric_VaR1(meanReturns, stdDevReturns, conf_Interval):\n",
    "\n",
    "    parametricVaR = meanReturns - stats.norm.ppf(conf_Interval/100) *stdDevReturns \n",
    "\n",
    "    return parametricVaR "
   ]
  },
  {
   "cell_type": "code",
   "execution_count": 8,
   "metadata": {},
   "outputs": [
    {
     "data": {
      "text/html": [
       "<div>\n",
       "<style scoped>\n",
       "    .dataframe tbody tr th:only-of-type {\n",
       "        vertical-align: middle;\n",
       "    }\n",
       "\n",
       "    .dataframe tbody tr th {\n",
       "        vertical-align: top;\n",
       "    }\n",
       "\n",
       "    .dataframe thead th {\n",
       "        text-align: right;\n",
       "    }\n",
       "</style>\n",
       "<table border=\"1\" class=\"dataframe\">\n",
       "  <thead>\n",
       "    <tr style=\"text-align: right;\">\n",
       "      <th></th>\n",
       "      <th>returns</th>\n",
       "    </tr>\n",
       "    <tr>\n",
       "      <th>Date</th>\n",
       "      <th></th>\n",
       "    </tr>\n",
       "  </thead>\n",
       "  <tbody>\n",
       "    <tr>\n",
       "      <th>2017-09-18</th>\n",
       "      <td>8029.811099</td>\n",
       "    </tr>\n",
       "    <tr>\n",
       "      <th>2017-09-19</th>\n",
       "      <td>-3536.004186</td>\n",
       "    </tr>\n",
       "    <tr>\n",
       "      <th>2017-09-20</th>\n",
       "      <td>-3606.647558</td>\n",
       "    </tr>\n",
       "    <tr>\n",
       "      <th>2017-09-21</th>\n",
       "      <td>-11671.258134</td>\n",
       "    </tr>\n",
       "    <tr>\n",
       "      <th>2017-09-22</th>\n",
       "      <td>-31688.423460</td>\n",
       "    </tr>\n",
       "    <tr>\n",
       "      <th>...</th>\n",
       "      <td>...</td>\n",
       "    </tr>\n",
       "    <tr>\n",
       "      <th>2019-09-24</th>\n",
       "      <td>-3730.958569</td>\n",
       "    </tr>\n",
       "    <tr>\n",
       "      <th>2019-09-25</th>\n",
       "      <td>-30002.188112</td>\n",
       "    </tr>\n",
       "    <tr>\n",
       "      <th>2019-09-26</th>\n",
       "      <td>15422.702182</td>\n",
       "    </tr>\n",
       "    <tr>\n",
       "      <th>2019-09-27</th>\n",
       "      <td>-7094.642757</td>\n",
       "    </tr>\n",
       "    <tr>\n",
       "      <th>2019-09-30</th>\n",
       "      <td>-11661.804796</td>\n",
       "    </tr>\n",
       "  </tbody>\n",
       "</table>\n",
       "<p>500 rows × 1 columns</p>\n",
       "</div>"
      ],
      "text/plain": [
       "                 returns\n",
       "Date                    \n",
       "2017-09-18   8029.811099\n",
       "2017-09-19  -3536.004186\n",
       "2017-09-20  -3606.647558\n",
       "2017-09-21 -11671.258134\n",
       "2017-09-22 -31688.423460\n",
       "...                  ...\n",
       "2019-09-24  -3730.958569\n",
       "2019-09-25 -30002.188112\n",
       "2019-09-26  15422.702182\n",
       "2019-09-27  -7094.642757\n",
       "2019-09-30 -11661.804796\n",
       "\n",
       "[500 rows x 1 columns]"
      ]
     },
     "execution_count": 8,
     "metadata": {},
     "output_type": "execute_result"
    }
   ],
   "source": [
    "PortfolioReturns = pd.DataFrame({'returns' : PortfolioReturns * 1e6})\n",
    "PortfolioReturns"
   ]
  },
  {
   "cell_type": "code",
   "execution_count": 7,
   "metadata": {},
   "outputs": [
    {
     "name": "stdout",
     "output_type": "stream",
     "text": [
      "Parametric VaR of 99% VaR is : [[-32188.90765552]]\n"
     ]
    }
   ],
   "source": [
    "conf_Interval = 99\n",
    "print(\"Parametric VaR of \" + str(conf_Interval) + \"% VaR is : \" + str(parametric_VaR1(Mean_Returns, StdDeviation_Returns, conf_Interval) * 1e6))"
   ]
  },
  {
   "cell_type": "markdown",
   "metadata": {},
   "source": [
    "## Parametric VaR of 99% VaR is : 32188.90765552"
   ]
  }
 ],
 "metadata": {
  "kernelspec": {
   "display_name": "base",
   "language": "python",
   "name": "python3"
  },
  "language_info": {
   "codemirror_mode": {
    "name": "ipython",
    "version": 3
   },
   "file_extension": ".py",
   "mimetype": "text/x-python",
   "name": "python",
   "nbconvert_exporter": "python",
   "pygments_lexer": "ipython3",
   "version": "3.11.4"
  }
 },
 "nbformat": 4,
 "nbformat_minor": 2
}
